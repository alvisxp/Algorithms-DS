{
 "cells": [
  {
   "cell_type": "markdown",
   "metadata": {},
   "source": [
    "### Linked List\n"
   ]
  },
  {
   "cell_type": "code",
   "execution_count": 3,
   "metadata": {},
   "outputs": [],
   "source": [
    "class Node:\n",
    "  def __init__(self, value, next_node=None):\n",
    "    self.value = value\n",
    "    self.next_node = next_node\n",
    "    \n",
    "  def get_value(self):\n",
    "    return self.value\n",
    "  \n",
    "  def get_next_node(self):\n",
    "    return self.next_node\n",
    "  \n",
    "  def set_next_node(self, next_node):\n",
    "    self.next_node = next_node\n",
    "\n",
    "  \n",
    "class LinkedList:\n",
    "  def __init__(self, value=None):\n",
    "    self.value = value\n",
    "    self.head_node = Node(self.value)\n",
    "  \n",
    "  def get_head_node(self):\n",
    "    return self.head_node\n",
    "  "
   ]
  },
  {
   "cell_type": "code",
   "execution_count": 2,
   "metadata": {},
   "outputs": [
    {
     "name": "stdout",
     "output_type": "stream",
     "text": [
      "90\n",
      "5675\n",
      "70\n",
      "5\n",
      "\n"
     ]
    }
   ],
   "source": [
    "# # We'll be using our Node class\n",
    "# class Node:\n",
    "#   def __init__(self, value, next_node=None):\n",
    "#     self.value = value\n",
    "#     self.next_node = next_node\n",
    "    \n",
    "#   def get_value(self):\n",
    "#     return self.value\n",
    "  \n",
    "#   def get_next_node(self):\n",
    "#     return self.next_node\n",
    "  \n",
    "#   def set_next_node(self, next_node):\n",
    "#     self.next_node = next_node\n",
    "\n",
    "# # Our LinkedList class\n",
    "# class LinkedList:\n",
    "#   def __init__(self, value=None):\n",
    "#     self.head_node = Node(value)\n",
    "  \n",
    "#   def get_head_node(self):\n",
    "#     return self.head_node\n",
    "  \n",
    "# # Add your insert_beginning and stringify_list methods:\n",
    "#   def insert_beginning(self, new_value):\n",
    "#     new_node = Node(new_value)\n",
    "#     new_node.set_next_node(self.head_node)\n",
    "#     self.head_node = new_node\n",
    "  \n",
    "#   def stringify_list(self):\n",
    "#     string_list = \"\"\n",
    "#     current_node = self.get_head_node()\n",
    "#     while current_node:\n",
    "#       if current_node.get_value() != None:\n",
    "#         string_list += str(current_node.get_value()) + \"\\n\"\n",
    "#         current_node = current_node.get_next_node()\n",
    "#     return string_list\n",
    "\n",
    "# # Testing code \n",
    "# ll = LinkedList(5)\n",
    "# ll.insert_beginning(70)\n",
    "# ll.insert_beginning(5675)\n",
    "# ll.insert_beginning(90)\n",
    "# print(ll.stringify_list())"
   ]
  }
 ],
 "metadata": {
  "kernelspec": {
   "display_name": "Python 3",
   "language": "python",
   "name": "python3"
  },
  "language_info": {
   "codemirror_mode": {
    "name": "ipython",
    "version": 3
   },
   "file_extension": ".py",
   "mimetype": "text/x-python",
   "name": "python",
   "nbconvert_exporter": "python",
   "pygments_lexer": "ipython3",
   "version": "3.11.4"
  },
  "orig_nbformat": 4
 },
 "nbformat": 4,
 "nbformat_minor": 2
}
