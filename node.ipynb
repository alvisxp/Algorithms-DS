{
 "cells": [
  {
   "cell_type": "markdown",
   "metadata": {},
   "source": [
    "### Nodes "
   ]
  },
  {
   "cell_type": "code",
   "execution_count": 2,
   "metadata": {},
   "outputs": [],
   "source": [
    "class Node:\n",
    "    def __init__(self, value, link_node = None):\n",
    "        self.value = value\n",
    "        self.link_node = link_node\n",
    "    \n",
    "    def get_value(self):\n",
    "        return self.value\n",
    "    \n",
    "    def get_link_node(self):\n",
    "        return self.link_node\n",
    "    \n",
    "    def set_link_node(self, link_node):\n",
    "        self.link_node = link_node\n",
    "        return self.link_node"
   ]
  },
  {
   "cell_type": "code",
   "execution_count": null,
   "metadata": {},
   "outputs": [],
   "source": [
    "# class Node:\n",
    "#   def __init__(self, value, link_node=None):\n",
    "#     self.value = value\n",
    "#     self.link_node = link_node\n",
    "    \n",
    "#   def set_link_node(self, link_node):\n",
    "#     self.link_node = link_node\n",
    "    \n",
    "#   def get_link_node(self):\n",
    "#     return self.link_node\n",
    "  \n",
    "#   def get_value(self):\n",
    "#     return self.value\n",
    "\n",
    "\n",
    "# yacko = Node(\"likes to yak\")\n",
    "# wacko = Node(\"has a penchant for hoarding snacks\")\n",
    "# dot = Node(\"enjoys spending time in movie lots\")\n",
    "\n",
    "# yacko.set_link_node(dot)\n",
    "# dot.set_link_node(wacko)\n",
    "\n",
    "# dots_data = yacko.get_link_node().get_value()\n",
    "# wackos_data = dot.get_link_node().get_value()\n",
    "# print(dots_data)\n",
    "# print(wackos_data)"
   ]
  }
 ],
 "metadata": {
  "kernelspec": {
   "display_name": "Python 3",
   "language": "python",
   "name": "python3"
  },
  "language_info": {
   "codemirror_mode": {
    "name": "ipython",
    "version": 3
   },
   "file_extension": ".py",
   "mimetype": "text/x-python",
   "name": "python",
   "nbconvert_exporter": "python",
   "pygments_lexer": "ipython3",
   "version": "3.11.4"
  },
  "orig_nbformat": 4
 },
 "nbformat": 4,
 "nbformat_minor": 2
}
